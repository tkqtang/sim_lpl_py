{
 "cells": [
  {
   "cell_type": "code",
   "execution_count": 1,
   "id": "19db3272",
   "metadata": {},
   "outputs": [],
   "source": [
    "import numpy as np\n",
    "import torch\n",
    "from stork.constraints import MinMaxConstraint\n",
    "from LPLDataset import SparseGenerator, LPLDataset\n",
    "from LPLModel import LPLModel\n",
    "from LPLGroup import LPLGroup, InputGroup\n",
    "from LPLConnection import SymmetricSTDPConnection, LPLConnection, Connection"
   ]
  },
  {
   "cell_type": "code",
   "execution_count": 2,
   "id": "ea2b9c30",
   "metadata": {},
   "outputs": [],
   "source": [
    "# Model Parameters\n",
    "dt = 2e-3\n",
    "time_window = 0.5\n",
    "nb_time_steps = (int)(time_window/dt)\n",
    "timestep_rmsprop_updates = nb_time_steps\n",
    "batch_size = 1\n",
    "nb_inputs = 500  \n",
    "nb_exc_units = 100\n",
    "nb_inh_units = 25\n",
    "device = torch.device(\"cuda\")\n",
    "dtype = torch.float\n",
    "epoch = 10\n",
    "file_name = \"\""
   ]
  },
  {
   "cell_type": "code",
   "execution_count": 3,
   "id": "ed75897b",
   "metadata": {},
   "outputs": [],
   "source": [
    "data1 = np.loadtxt(\"spks/5hz_spikes_10000s_2.ras\")\n",
    "data2 = np.loadtxt(\"spks/5hz_spikes_100s_2.ras\")\n"
   ]
  },
  {
   "cell_type": "code",
   "execution_count": 4,
   "id": "fb998992",
   "metadata": {},
   "outputs": [],
   "source": [
    "dataset1 = LPLDataset(data1, time_step=dt, time_window=time_window, device=device)\n",
    "dataset2 = LPLDataset(data2, time_step=dt, time_window=time_window, device=device)\n",
    "generator = SparseGenerator(nb_workers=0)"
   ]
  },
  {
   "cell_type": "code",
   "execution_count": 5,
   "id": "6dcd9b5a",
   "metadata": {},
   "outputs": [],
   "source": [
    "lpl_con_prob = 0.1\n",
    "ii_con_prob  = 0.1\n",
    "ie_con_prob  = 0.5\n",
    "lpl_con_w    = 0.15\n",
    "ii_con_w     = 0.4\n",
    "ie_con_w     = 0.1\n",
    "\n",
    "ei_con_w     = 0.5"
   ]
  },
  {
   "cell_type": "markdown",
   "id": "06161da7",
   "metadata": {},
   "source": [
    "## LPL Model"
   ]
  },
  {
   "cell_type": "code",
   "execution_count": 6,
   "id": "ab9dfff4",
   "metadata": {},
   "outputs": [
    {
     "name": "stdout",
     "output_type": "stream",
     "text": [
      "\n",
      "# Model summary\n",
      "\n",
      "## Groups\n",
      "input, (500,)\n",
      "exc, (100,)\n",
      "inh, (25,)\n",
      "\n",
      "## Connections\n",
      "LPLConnection(\n",
      "  (src): InputGroup()\n",
      "  (dst): LPLGroup()\n",
      "  (op): Linear(in_features=500, out_features=100, bias=False)\n",
      ")\n",
      "Connection(\n",
      "  (src): LPLGroup()\n",
      "  (dst): LPLGroup()\n",
      "  (op): Linear(in_features=100, out_features=25, bias=False)\n",
      ")\n",
      "Connection(\n",
      "  (src): LPLGroup()\n",
      "  (dst): LPLGroup()\n",
      "  (op): Linear(in_features=25, out_features=25, bias=False)\n",
      ")\n",
      "SymmetricSTDPConnection(\n",
      "  (src): LPLGroup()\n",
      "  (dst): LPLGroup()\n",
      "  (op): Linear(in_features=25, out_features=100, bias=False)\n",
      ")\n"
     ]
    }
   ],
   "source": [
    "model = LPLModel(batch_size, nb_time_steps, nb_inputs, device, dtype)\n",
    "\n",
    "input_group = model.add_group(InputGroup(nb_inputs, name=\"input\"))\n",
    "exc_neurons = model.add_group(LPLGroup(nb_exc_units, name=\"exc\"))\n",
    "inh_neurons = model.add_group(LPLGroup(nb_inh_units, name=\"inh\"))\n",
    "constraints1 = MinMaxConstraint(0.0, 1.0)\n",
    "constraints2 = MinMaxConstraint(0.0, 10.0)\n",
    "\n",
    "con1 = model.add_connection(\n",
    "    LPLConnection(\n",
    "    input_group, \n",
    "    exc_neurons, \n",
    "    connection_prob=lpl_con_prob, \n",
    "    initial_weight=lpl_con_w, \n",
    "    name=\"LPLCon\", \n",
    "    target=\"exc\", \n",
    "    tau_post_mean=600,\n",
    "    constraints=constraints1,\n",
    "    lamda_=1.0,\n",
    "    phi=1.0,\n",
    "    lr=1e-2,\n",
    "    delta_time=20e-3,\n",
    "    timestep_rmsprop_updates=timestep_rmsprop_updates))\n",
    "\n",
    "con2 = model.add_connection(\n",
    "    Connection(\n",
    "        exc_neurons, \n",
    "        inh_neurons, \n",
    "        gaussian=True,\n",
    "        initial_weight=ei_con_w, \n",
    "        name=\"Con1\", \n",
    "        target=\"exc\"))\n",
    "\n",
    "con3 = model.add_connection(\n",
    "    Connection(\n",
    "        inh_neurons, \n",
    "        inh_neurons, \n",
    "        connection_prob=ii_con_prob, \n",
    "        initial_weight=ii_con_w, \n",
    "        name=\"Con2\", \n",
    "        target=\"inh\"))\n",
    "\n",
    "con4 = model.add_connection(\n",
    "    SymmetricSTDPConnection(\n",
    "        inh_neurons, \n",
    "        exc_neurons, \n",
    "        connection_prob=ie_con_prob, \n",
    "        initial_weight=ie_con_w, \n",
    "        name=\"STDPCon\", \n",
    "        target=\"inh\",\n",
    "        constraints=constraints2,\n",
    "        lr=1e-3,\n",
    "        kappa=10))\n",
    "\n",
    "model.configure(input=input_group, generator=generator, time_step=dt)\n",
    "model.summary()\n",
    "\n",
    "con1.set_evolve(True)\n",
    "con4.set_evolve(True)\n"
   ]
  },
  {
   "cell_type": "code",
   "execution_count": 34,
   "id": "f0abbe74",
   "metadata": {},
   "outputs": [
    {
     "name": "stdout",
     "output_type": "stream",
     "text": [
      "stimulate start!\n",
      "   epoch 0 end!\n",
      "   epoch 1 end!\n",
      "   epoch 2 end!\n"
     ]
    }
   ],
   "source": [
    "# model.stored = False\n",
    "# model.map = {}\n",
    "# model.store_out = {}\n",
    "# model.store_weight = {}\n",
    "model.stimulate(dataset1, epoch=1)"
   ]
  },
  {
   "cell_type": "code",
   "execution_count": 35,
   "id": "ed5fa40e",
   "metadata": {},
   "outputs": [
    {
     "name": "stdout",
     "output_type": "stream",
     "text": [
      "stimulate start!\n",
      "   epoch 0 end!\n",
      "   out_50000s_2_lpl have stored!\n",
      "   weight_50000s_2_lpl have stored!\n"
     ]
    }
   ],
   "source": [
    "list_neurons = [input_group.name, exc_neurons.name, inh_neurons.name]\n",
    "list_con = [con1.name]\n",
    "model.configure_stored(list_neurons, list_con, \"_10000s_lpl\")\n",
    "model.stimulate(dataset2)"
   ]
  },
  {
   "cell_type": "code",
   "execution_count": 39,
   "id": "b1096b01",
   "metadata": {},
   "outputs": [
    {
     "name": "stdout",
     "output_type": "stream",
     "text": [
      "tensor([[-3.9910e-10, -5.2004e-12, -1.0247e-08,  ..., -1.2910e-02,\n",
      "         -5.1996e-03, -1.3283e-05],\n",
      "        [-3.9539e-10, -5.1521e-12, -1.0152e-08,  ..., -1.2789e-02,\n",
      "         -5.1482e-03, -1.3159e-05],\n",
      "        [-8.4248e-10, -1.0978e-11, -2.1630e-08,  ..., -1.5172e-02,\n",
      "         -5.1643e-03, -2.8037e-05],\n",
      "        ...,\n",
      "        [-8.6581e-10, -1.1282e-11, -2.2229e-08,  ..., -2.8038e-02,\n",
      "         -1.1365e-02, -2.8816e-05],\n",
      "        [-4.0047e-10, -5.2182e-12, -1.0282e-08,  ..., -1.2954e-02,\n",
      "         -5.2185e-03, -1.3328e-05],\n",
      "        [-8.7631e-10, -1.1419e-11, -2.2499e-08,  ..., -1.5808e-02,\n",
      "         -5.1660e-03, -2.9163e-05]], device='cuda:0')\n"
     ]
    }
   ],
   "source": [
    "# print\n",
    "# (\n",
    "#     con1.trace_post_mean, \n",
    "#     con1.trace_post_sigma2, \n",
    "#     con1.err\n",
    "# )\n",
    "# for i in con4.op.weight.data:\n",
    "#     print(i)\n",
    "print(con1.el_val_flt * (con1.trace_err_flt.T @ torch.ones_like(con1.src.out)))"
   ]
  },
  {
   "cell_type": "markdown",
   "id": "732d8129",
   "metadata": {},
   "source": [
    "### Pred Off Model"
   ]
  },
  {
   "cell_type": "code",
   "execution_count": null,
   "id": "a286de80",
   "metadata": {},
   "outputs": [],
   "source": [
    "\n",
    "model = LPLModel(batch_size, nb_time_steps, nb_inputs, device, dtype)\n",
    "\n",
    "input_group = model.add_group(InputGroup(nb_inputs, name=\"input\"))\n",
    "exc_neurons = model.add_group(LPLGroup(nb_exc_units, name=\"exc\"))\n",
    "inh_neurons = model.add_group(LPLGroup(nb_inh_units, name=\"inh\"))\n",
    "constraints1 = MinMaxConstraint(0.0, 1.0)\n",
    "constraints2 = MinMaxConstraint(0.0, 10.0)\n",
    "\n",
    "con1 = model.add_connection(\n",
    "    LPLConnection(\n",
    "    input_group, \n",
    "    exc_neurons, \n",
    "    connection_prob=lpl_con_prob, \n",
    "    initial_weight=lpl_con_w, \n",
    "    name=\"LPLCon\", \n",
    "    target=\"exc\", \n",
    "    tau_post_mean=60,\n",
    "    constraints=None,\n",
    "    lamda_=1.0,\n",
    "    phi=0.0))\n",
    "\n",
    "con2 = model.add_connection(\n",
    "    Connection(\n",
    "        exc_neurons, \n",
    "        inh_neurons, \n",
    "        gaussian=True, \n",
    "        name=\"Con1\", \n",
    "        target=\"exc\"))\n",
    "\n",
    "con3 = model.add_connection(\n",
    "    Connection(\n",
    "        inh_neurons, \n",
    "        inh_neurons, \n",
    "        connection_prob=ii_con_prob, \n",
    "        initial_weight=ii_con_w, \n",
    "        name=\"Con2\", \n",
    "        target=\"inh\"))\n",
    "\n",
    "con4 = model.add_connection(\n",
    "    SymmetricSTDPConnection(\n",
    "        inh_neurons, \n",
    "        exc_neurons, \n",
    "        connection_prob=ie_con_prob, \n",
    "        initial_weight=ie_con_w, \n",
    "        name=\"STDPCon\", \n",
    "        target=\"inh\",\n",
    "        constraints=constraints2))\n",
    "\n",
    "model.configure(input=input_group, generator=generator, time_step=dt)\n",
    "model.summary()\n",
    "\n",
    "con1.set_evolve(True)\n",
    "con4.set_evolve(True)"
   ]
  },
  {
   "cell_type": "code",
   "execution_count": null,
   "id": "74215430",
   "metadata": {},
   "outputs": [],
   "source": [
    "model.stimulate(dataset1, epoch=epoch)\n",
    "list_neurons = [input_group.name, exc_neurons.name, inh_neurons.name]\n",
    "list_con = [con1.name]\n",
    "model.configure_stored(list_neurons, list_con, file_name + \"_pred_off\")\n",
    "model.stimulate(dataset2)"
   ]
  },
  {
   "cell_type": "markdown",
   "id": "85477692",
   "metadata": {},
   "source": [
    "## Hebb Off Model"
   ]
  },
  {
   "cell_type": "code",
   "execution_count": null,
   "id": "2cee01d7",
   "metadata": {},
   "outputs": [],
   "source": [
    "\n",
    "model = LPLModel(batch_size, nb_time_steps, nb_inputs, device, dtype)\n",
    "\n",
    "input_group = model.add_group(InputGroup(nb_inputs, name=\"input\"))\n",
    "exc_neurons = model.add_group(LPLGroup(nb_exc_units, name=\"exc\"))\n",
    "inh_neurons = model.add_group(LPLGroup(nb_inh_units, name=\"inh\"))\n",
    "constraints1 = MinMaxConstraint(0.0, 1.0)\n",
    "constraints2 = MinMaxConstraint(0.0, 10.0)\n",
    "\n",
    "con1 = model.add_connection(\n",
    "    LPLConnection(\n",
    "    input_group, \n",
    "    exc_neurons, \n",
    "    connection_prob=lpl_con_prob, \n",
    "    initial_weight=lpl_con_w, \n",
    "    name=\"LPLCon\", \n",
    "    target=\"exc\", \n",
    "    tau_post_mean=60,\n",
    "    constraints=constraints1,\n",
    "    lamda_=0.0,\n",
    "    phi=1.0,\n",
    "    lr=0.01))\n",
    "\n",
    "con2 = model.add_connection(\n",
    "    Connection(\n",
    "        exc_neurons, \n",
    "        inh_neurons, \n",
    "        gaussian=True, \n",
    "        name=\"Con1\", \n",
    "        target=\"exc\"))\n",
    "\n",
    "con3 = model.add_connection(\n",
    "    Connection(\n",
    "        inh_neurons, \n",
    "        inh_neurons, \n",
    "        connection_prob=ii_con_prob, \n",
    "        initial_weight=ii_con_w, \n",
    "        name=\"Con2\", \n",
    "        target=\"inh\"))\n",
    "\n",
    "con4 = model.add_connection(\n",
    "    SymmetricSTDPConnection(\n",
    "        inh_neurons, \n",
    "        exc_neurons, \n",
    "        connection_prob=ie_con_prob, \n",
    "        initial_weight=ie_con_w, \n",
    "        name=\"STDPCon\", \n",
    "        target=\"inh\",\n",
    "        constraints=constraints2,\n",
    "        lr=0.001))\n",
    "\n",
    "model.configure(input=input_group, generator=generator, time_step=dt)\n",
    "model.summary()\n",
    "\n",
    "con1.set_evolve(True)\n",
    "con4.set_evolve(True)"
   ]
  },
  {
   "cell_type": "code",
   "execution_count": null,
   "id": "02885fa6",
   "metadata": {},
   "outputs": [],
   "source": [
    "model.stimulate(dataset1, epoch=3)\n",
    "list_neurons = [input_group.name, exc_neurons.name, inh_neurons.name]\n",
    "list_con = [con1.name]\n",
    "model.configure_stored(list_neurons, list_con, file_name + \"_hebb_off\")\n",
    "model.stimulate(dataset2)"
   ]
  },
  {
   "cell_type": "markdown",
   "id": "9f8cf77b",
   "metadata": {},
   "source": [
    "## Inhib off Model"
   ]
  },
  {
   "cell_type": "code",
   "execution_count": null,
   "id": "f1ace267",
   "metadata": {},
   "outputs": [],
   "source": [
    "model = LPLModel(batch_size, nb_time_steps, nb_inputs, device, dtype)\n",
    "\n",
    "input_group = model.add_group(InputGroup(nb_inputs, name=\"input\"))\n",
    "exc_neurons = model.add_group(LPLGroup(nb_exc_units, name=\"exc\"))\n",
    "\n",
    "# constraints1 = MinMaxConstraint(0.0, 1.0)\n",
    "\n",
    "con1 = model.add_connection(\n",
    "    LPLConnection(\n",
    "    input_group, \n",
    "    exc_neurons, \n",
    "    connection_prob=lpl_con_prob, \n",
    "    initial_weight=lpl_con_w, \n",
    "    name=\"LPLCon\", \n",
    "    target=\"exc\", \n",
    "    tau_post_mean=60,\n",
    "    constraints=None,\n",
    "    lamda_=1.0,\n",
    "    phi=1.0))\n",
    "\n",
    "model.configure(input=input_group, generator=generator, time_step=dt)\n",
    "model.summary()\n",
    "\n",
    "con1.set_evolve(True)"
   ]
  },
  {
   "cell_type": "code",
   "execution_count": null,
   "id": "02f09ced",
   "metadata": {},
   "outputs": [],
   "source": [
    "model.stimulate(dataset2, epoch=epoch)\n",
    "list_neurons = [input_group.name, exc_neurons.name, inh_neurons.name]\n",
    "list_con = [con1.name]\n",
    "model.configure_stored(list_neurons, list_con, file_name + \"_inhib_off\")\n",
    "model.stimulate(dataset2)"
   ]
  },
  {
   "cell_type": "markdown",
   "id": "ea26029c",
   "metadata": {},
   "source": [
    "## Inhib Fixed Model"
   ]
  },
  {
   "cell_type": "code",
   "execution_count": null,
   "id": "c19c771f",
   "metadata": {},
   "outputs": [],
   "source": [
    "model = LPLModel(batch_size, nb_time_steps, nb_inputs, device, dtype)\n",
    "\n",
    "input_group = model.add_group(InputGroup(nb_inputs, name=\"input\"))\n",
    "exc_neurons = model.add_group(LPLGroup(nb_exc_units, name=\"exc\"))\n",
    "inh_neurons = model.add_group(LPLGroup(nb_inh_units, name=\"inh\"))\n",
    "# constraints1 = MinMaxConstraint(0.0, 1.0)\n",
    "\n",
    "\n",
    "con1 = model.add_connection(\n",
    "    LPLConnection(\n",
    "    input_group, \n",
    "    exc_neurons, \n",
    "    connection_prob=lpl_con_prob, \n",
    "    initial_weight=lpl_con_w, \n",
    "    name=\"LPLCon\", \n",
    "    target=\"exc\", \n",
    "    tau_post_mean=60,\n",
    "    constraints=None,\n",
    "    lamda_=1.0,\n",
    "    phi=1.0))\n",
    "\n",
    "con2 = model.add_connection(\n",
    "    Connection(\n",
    "        exc_neurons, \n",
    "        inh_neurons, \n",
    "        gaussian=True, \n",
    "        name=\"Con1\", \n",
    "        target=\"exc\"))\n",
    "\n",
    "con3 = model.add_connection(\n",
    "    Connection(\n",
    "        inh_neurons, \n",
    "        inh_neurons, \n",
    "        connection_prob=ii_con_prob, \n",
    "        initial_weight=ii_con_w, \n",
    "        name=\"Con2\", \n",
    "        target=\"inh\"))\n",
    "\n",
    "con4 = model.add_connection(\n",
    "    Connection(\n",
    "        inh_neurons, \n",
    "        exc_neurons, \n",
    "        gaussian=True,\n",
    "        name=\"Con3\", \n",
    "        target=\"inh\",\n",
    "        constraints=None))\n",
    "\n",
    "model.configure(input=input_group, generator=generator, time_step=dt)\n",
    "model.summary()\n",
    "\n",
    "con1.set_evolve(True)"
   ]
  },
  {
   "cell_type": "code",
   "execution_count": null,
   "id": "36c62e38",
   "metadata": {},
   "outputs": [],
   "source": [
    "model.stimulate(dataset1, epoch=epoch)\n",
    "list_neurons = [input_group.name, exc_neurons.name, inh_neurons.name]\n",
    "list_con = [con1.name]\n",
    "model.configure_stored(list_neurons, list_con, file_name + \"_inhib_fixed\")\n",
    "model.stimulate(dataset2)"
   ]
  }
 ],
 "metadata": {
  "kernelspec": {
   "display_name": "Python 3 (ipykernel)",
   "language": "python",
   "name": "python3"
  },
  "language_info": {
   "codemirror_mode": {
    "name": "ipython",
    "version": 3
   },
   "file_extension": ".py",
   "mimetype": "text/x-python",
   "name": "python",
   "nbconvert_exporter": "python",
   "pygments_lexer": "ipython3",
   "version": "3.11.4"
  }
 },
 "nbformat": 4,
 "nbformat_minor": 5
}
